{
 "cells": [
  {
   "cell_type": "markdown",
   "metadata": {},
   "source": [
    "# A Simple Bucket Hydrology Model\n",
    "## April 9, 2018\n"
   ]
  },
  {
   "cell_type": "code",
   "execution_count": 2,
   "metadata": {
    "collapsed": true
   },
   "outputs": [],
   "source": [
    "import numpy as np\n",
    "import matplotlib.pyplot as plt"
   ]
  },
  {
   "cell_type": "code",
   "execution_count": 9,
   "metadata": {},
   "outputs": [
    {
     "name": "stdout",
     "output_type": "stream",
     "text": [
      "(100, 1)\n",
      "(100,)\n"
     ]
    }
   ],
   "source": [
    "Nt = 100\n",
    "dt = 1.0\n",
    "\n",
    "P = np.zeros((Nt,1))\n",
    "P[19:39] = 4.0\n",
    "print(P.shape)\n",
    "\n",
    "t = np.arange(1,Nt+1,1)\n",
    "print(t.shape)\n"
   ]
  },
  {
   "cell_type": "code",
   "execution_count": 10,
   "metadata": {},
   "outputs": [
    {
     "data": {
      "image/png": "[encoded data removed]",
      "text/plain": [
       "<matplotlib.figure.Figure at 0x7ff67a822cf8>"
      ]
     },
     "metadata": {},
     "output_type": "display_data"
    }
   ],
   "source": [
    "plt.figure(1)\n",
    "plt.bar(t,P)\n",
    "plt.ylabel('Precip. [mm/d]')\n",
    "plt.xlabel('Time [d]')\n",
    "plt.show()\n"
   ]
  },
  {
   "cell_type": "code",
   "execution_count": 13,
   "metadata": {},
   "outputs": [],
   "source": [
    "k1 = 0.02 # Drainage coefficient in units of day^-1\n",
    "W1_0 = 250.0 # Water storage in units of mm\n",
    "\n",
    "# Initializing a data container for our water storage at each time step\n",
    "W1 = np.zeros(t.shape)\n",
    "\n",
    "# Update initial condition\n",
    "W1[0] = W1_0\n",
    "\n",
    "# Initializing a data container for our discharge at each time step\n",
    "Q  = np.zeros(t.shape)\n",
    "\n",
    "# Update initial condition\n",
    "Q[0] = k1*W1[0]\n",
    "\n",
    "# The main loop\n",
    "for i in np.arange(1,Nt,1):\n",
    "    \n",
    "    # Compute the value of the derivatives\n",
    "    dW1dt = P[i-1] - k1*W1[i-1]\n",
    "    \n",
    "    # Compute the next value of W\n",
    "    W1[i] = W1[i-1] + dW1dt*dt\n",
    "    \n",
    "    # Compute the next value of Q\n",
    "    Q[i] = k1*W1[i]"
   ]
  },
  {
   "cell_type": "code",
   "execution_count": 16,
   "metadata": {},
   "outputs": [
    {
     "data": {
      "image/png": "[encoded data removed]",
      "text/plain": [
       "<matplotlib.figure.Figure at 0x7ff6782f9ba8>"
      ]
     },
     "metadata": {},
     "output_type": "display_data"
    }
   ],
   "source": [
    "plt.figure(2)\n",
    "plt.subplot(311)\n",
    "plt.bar(t,P)\n",
    "plt.subplot(312)\n",
    "plt.plot(t,W1)\n",
    "plt.subplot(313)\n",
    "plt.plot(t,Q)\n",
    "plt.show()\n"
   ]
  },
  {
   "cell_type": "code",
   "execution_count": null,
   "metadata": {
    "collapsed": true
   },
   "outputs": [],
   "source": []
  }
 ],
 "metadata": {
  "kernelspec": {
   "display_name": "Python 3",
   "language": "python",
   "name": "python3"
  },
  "language_info": {
   "codemirror_mode": {
    "name": "ipython",
    "version": 3
   },
   "file_extension": ".py",
   "mimetype": "text/x-python",
   "name": "python",
   "nbconvert_exporter": "python",
   "pygments_lexer": "ipython3",
   "version": "3.6.1"
  }
 },
 "nbformat": 4,
 "nbformat_minor": 2
}
