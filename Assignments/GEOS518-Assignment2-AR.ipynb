{
 "cells": [
  {
   "cell_type": "markdown",
   "metadata": {},
   "source": [
    "# GEOS 518: Applied Hydrologic Modeling\n",
    "## Problem Set 2: Autoregressive Models\n",
    "\n",
    "In this Jupyter notebook, you will complete the following tasks with your time series of choice\n",
    "\n",
    "1. Read in the dataset and perform any additional pre-processing needed\n",
    "2. Split the dataset into a \"training\" dataset used to estimate the parameters of the AR mode, and a \"test\" dataset against which you will test the model\n",
    "3. Estimate the parameters of an AR(1) model using the training dataset\n",
    "    * Compute the autocorrelation function\n",
    "    * Use Yule-Walker equations to estimate the AR(1) parameters\n",
    "    * Use the statsmodel AR tools to estimate the parameters based on the dataset\n",
    "    * Compare the YW parameters to those from the statsmodel library\n",
    "4. Estimate the parameters of an AR(2) model using the training dataset\n",
    "    * Use Yule-Walker equations to estimate the AR(2) parameters\n",
    "    * Use the statsmodel AR tools to estimate the parameters based on the dataset\n",
    "    * Compare the YW parameters to those from the statsmodel library\n",
    "5. Apply the AR(1) and AR(2) models to the \"test\" dataset (the one withheld from parameter estimation)\n",
    "6. Plot the modeled time series for the AR(1) and AR(2) models against the observed time series for comparison\n",
    "7. Comment on key differences and distinctions between the models themselves and the extent to which they reproduce the observations\n"
   ]
  },
  {
   "cell_type": "code",
   "execution_count": null,
   "metadata": {
    "collapsed": true
   },
   "outputs": [],
   "source": [
    "AR"
   ]
  }
 ],
 "metadata": {
  "kernelspec": {
   "display_name": "Python 3",
   "language": "python",
   "name": "python3"
  },
  "language_info": {
   "codemirror_mode": {
    "name": "ipython",
    "version": 3
   },
   "file_extension": ".py",
   "mimetype": "text/x-python",
   "name": "python",
   "nbconvert_exporter": "python",
   "pygments_lexer": "ipython3",
   "version": "3.6.1"
  }
 },
 "nbformat": 4,
 "nbformat_minor": 2
}
