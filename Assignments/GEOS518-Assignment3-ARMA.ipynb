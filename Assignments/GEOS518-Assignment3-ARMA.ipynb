{
 "cells": [
  {
   "cell_type": "markdown",
   "metadata": {},
   "source": [
    "# Assignment 3: Autoregressive Moving Average Models\n",
    "\n",
    "Tasks associated with this assignment are:\n",
    "1. Load your dataset that you've been using in previous notebooks\n",
    "2. Split your dataset into a training and test dataset\n",
    "3. Fit the parameters of the following models to your training dataset:\n",
    "  * AR(2)\n",
    "  * ARMA(2,2)\n",
    "4. Using the test portion of the dataset, compare the observations, AR(2), and ARMA(2,2) predictions for the following lead times:\n",
    "  * 1 time period ahead\n",
    "  * 3 time periods ahead\n",
    "  * 5 time periods ahead\n",
    "5. Characterize on the accuracy of the forecasts for each lead time and model\n",
    "6. Comment on and contrast modeling approaches\n"
   ]
  },
  {
   "cell_type": "code",
   "execution_count": null,
   "metadata": {
    "collapsed": true
   },
   "outputs": [],
   "source": []
  }
 ],
 "metadata": {
  "kernelspec": {
   "display_name": "Python 3",
   "language": "python",
   "name": "python3"
  },
  "language_info": {
   "codemirror_mode": {
    "name": "ipython",
    "version": 3
   },
   "file_extension": ".py",
   "mimetype": "text/x-python",
   "name": "python",
   "nbconvert_exporter": "python",
   "pygments_lexer": "ipython3",
   "version": "3.6.1"
  }
 },
 "nbformat": 4,
 "nbformat_minor": 2
}
