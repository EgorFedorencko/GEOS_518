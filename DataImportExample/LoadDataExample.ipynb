{
 "cells": [
  {
   "cell_type": "code",
   "execution_count": 2,
   "metadata": {},
   "outputs": [],
   "source": [
    "import numpy as np\n",
    "\n",
    "data = np.genfromtxt(\"HenrysForkDischarge.csv\", delimiter=',')\n"
   ]
  },
  {
   "cell_type": "code",
   "execution_count": 3,
   "metadata": {},
   "outputs": [
    {
     "name": "stdout",
     "output_type": "stream",
     "text": [
      "[[             nan              nan              nan              nan]\n",
      " [  2.00000000e+03   1.00000000e+01   1.00000000e+00   3.93618527e+01]\n",
      " [  2.00000000e+03   1.00000000e+01   2.00000000e+00   3.93618527e+01]\n",
      " ..., \n",
      " [  2.01500000e+03   9.00000000e+00   2.80000000e+01   2.42684228e+01]\n",
      " [  2.01500000e+03   9.00000000e+00   2.90000000e+01   2.44949659e+01]\n",
      " [  2.01500000e+03   9.00000000e+00   3.00000000e+01   2.45516016e+01]]\n"
     ]
    }
   ],
   "source": [
    "print(data)"
   ]
  },
  {
   "cell_type": "code",
   "execution_count": null,
   "metadata": {
    "collapsed": true
   },
   "outputs": [],
   "source": []
  }
 ],
 "metadata": {
  "kernelspec": {
   "display_name": "Python 3",
   "language": "python",
   "name": "python3"
  },
  "language_info": {
   "codemirror_mode": {
    "name": "ipython",
    "version": 3
   },
   "file_extension": ".py",
   "mimetype": "text/x-python",
   "name": "python",
   "nbconvert_exporter": "python",
   "pygments_lexer": "ipython3",
   "version": "3.6.1"
  }
 },
 "nbformat": 4,
 "nbformat_minor": 2
}
